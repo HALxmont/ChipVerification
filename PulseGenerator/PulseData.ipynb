{
 "cells": [
  {
   "cell_type": "markdown",
   "metadata": {},
   "source": [
    "# Pulse - Equivalent charge"
   ]
  },
  {
   "cell_type": "markdown",
   "metadata": {},
   "source": [
    "### En base a la Tesis\n",
    ">  0.1 nS de duracion con amplitud de 4mA para un pixel\n",
    "\n",
    ">  Cada pixel aporta 4mA \n",
    "\n",
    ">  El chip se ha diseñado para leer en un rango de [1, 3000] pixeles\n",
    "\n",
    ">  **Se asume un pulso rectangular** de amplitud 4*N* de 0.1nS. N es el numero de pixeles activados en el rango de [1, 3000]"
   ]
  },
  {
   "cell_type": "code",
   "execution_count": 1,
   "metadata": {},
   "outputs": [],
   "source": [
    "import numpy as np\n",
    "import matplotlib.pyplot as plt\n",
    "import pandas as pd"
   ]
  },
  {
   "cell_type": "code",
   "execution_count": 6,
   "metadata": {},
   "outputs": [],
   "source": [
    "#RELACION AMPLITUD - CARGA para una duracion de 0.1nS\n",
    "\n",
    "amplitud = np.arange(4,12004,4)  #vector de valores para la amplitud\n",
    "cargas = []\n",
    "amplitudes = []\n",
    "t_pulse = 0.1*10**-9 #0.ns\n",
    "pixeles = []\n",
    "count = 1\n",
    "m = 10**-3 #mili\n",
    "for i in amplitud:\n",
    "    cargas.append(t_pulse*i*m)\n",
    "    amplitudes.append(i)\n",
    "    pixeles.append(count)\n",
    "    count+=1\n",
    " \n",
    "# Create the pandas DataFrame\n",
    "df = pd.DataFrame(list(zip(pixeles, cargas, amplitudes)),\n",
    "               columns =['PIXELES', 'CARGAS[q]', 'AMPLITUD[mA]'])\n",
    "\n",
    "df.to_excel('tesis_base.xlsx')"
   ]
  },
  {
   "cell_type": "code",
   "execution_count": 7,
   "metadata": {},
   "outputs": [
    {
     "data": {
      "text/html": [
       "<div>\n",
       "<style scoped>\n",
       "    .dataframe tbody tr th:only-of-type {\n",
       "        vertical-align: middle;\n",
       "    }\n",
       "\n",
       "    .dataframe tbody tr th {\n",
       "        vertical-align: top;\n",
       "    }\n",
       "\n",
       "    .dataframe thead th {\n",
       "        text-align: right;\n",
       "    }\n",
       "</style>\n",
       "<table border=\"1\" class=\"dataframe\">\n",
       "  <thead>\n",
       "    <tr style=\"text-align: right;\">\n",
       "      <th></th>\n",
       "      <th>PIXELES</th>\n",
       "      <th>CARGAS[q]</th>\n",
       "      <th>AMPLITUD[mA]</th>\n",
       "    </tr>\n",
       "  </thead>\n",
       "  <tbody>\n",
       "    <tr>\n",
       "      <th>0</th>\n",
       "      <td>1</td>\n",
       "      <td>4.000000e-13</td>\n",
       "      <td>4</td>\n",
       "    </tr>\n",
       "    <tr>\n",
       "      <th>1</th>\n",
       "      <td>2</td>\n",
       "      <td>8.000000e-13</td>\n",
       "      <td>8</td>\n",
       "    </tr>\n",
       "    <tr>\n",
       "      <th>2</th>\n",
       "      <td>3</td>\n",
       "      <td>1.200000e-12</td>\n",
       "      <td>12</td>\n",
       "    </tr>\n",
       "    <tr>\n",
       "      <th>3</th>\n",
       "      <td>4</td>\n",
       "      <td>1.600000e-12</td>\n",
       "      <td>16</td>\n",
       "    </tr>\n",
       "    <tr>\n",
       "      <th>4</th>\n",
       "      <td>5</td>\n",
       "      <td>2.000000e-12</td>\n",
       "      <td>20</td>\n",
       "    </tr>\n",
       "    <tr>\n",
       "      <th>...</th>\n",
       "      <td>...</td>\n",
       "      <td>...</td>\n",
       "      <td>...</td>\n",
       "    </tr>\n",
       "    <tr>\n",
       "      <th>2995</th>\n",
       "      <td>2996</td>\n",
       "      <td>1.198400e-09</td>\n",
       "      <td>11984</td>\n",
       "    </tr>\n",
       "    <tr>\n",
       "      <th>2996</th>\n",
       "      <td>2997</td>\n",
       "      <td>1.198800e-09</td>\n",
       "      <td>11988</td>\n",
       "    </tr>\n",
       "    <tr>\n",
       "      <th>2997</th>\n",
       "      <td>2998</td>\n",
       "      <td>1.199200e-09</td>\n",
       "      <td>11992</td>\n",
       "    </tr>\n",
       "    <tr>\n",
       "      <th>2998</th>\n",
       "      <td>2999</td>\n",
       "      <td>1.199600e-09</td>\n",
       "      <td>11996</td>\n",
       "    </tr>\n",
       "    <tr>\n",
       "      <th>2999</th>\n",
       "      <td>3000</td>\n",
       "      <td>1.200000e-09</td>\n",
       "      <td>12000</td>\n",
       "    </tr>\n",
       "  </tbody>\n",
       "</table>\n",
       "<p>3000 rows × 3 columns</p>\n",
       "</div>"
      ],
      "text/plain": [
       "      PIXELES     CARGAS[q]  AMPLITUD[mA]\n",
       "0           1  4.000000e-13             4\n",
       "1           2  8.000000e-13             8\n",
       "2           3  1.200000e-12            12\n",
       "3           4  1.600000e-12            16\n",
       "4           5  2.000000e-12            20\n",
       "...       ...           ...           ...\n",
       "2995     2996  1.198400e-09         11984\n",
       "2996     2997  1.198800e-09         11988\n",
       "2997     2998  1.199200e-09         11992\n",
       "2998     2999  1.199600e-09         11996\n",
       "2999     3000  1.200000e-09         12000\n",
       "\n",
       "[3000 rows x 3 columns]"
      ]
     },
     "execution_count": 7,
     "metadata": {},
     "output_type": "execute_result"
    }
   ],
   "source": [
    "df"
   ]
  },
  {
   "cell_type": "code",
   "execution_count": 17,
   "metadata": {},
   "outputs": [
    {
     "data": {
      "text/plain": [
       "(array([-2000.,     0.,  2000.,  4000.,  6000.,  8000., 10000., 12000.,\n",
       "        14000.]),\n",
       " <a list of 9 Text major ticklabel objects>)"
      ]
     },
     "execution_count": 17,
     "metadata": {},
     "output_type": "execute_result"
    },
    {
     "data": {
      "image/png": "[encoded data removed]",
      "text/plain": [
       "<Figure size 576x360 with 1 Axes>"
      ]
     },
     "metadata": {
      "needs_background": "light"
     },
     "output_type": "display_data"
    }
   ],
   "source": [
    "plt.figure(figsize=(8,5))\n",
    "plt.plot(df['PIXELES'],df['AMPLITUD[mA]'])\n",
    "plt.title(\"Current amplitude vs number of activated pixels\", fontsize = 18)\n",
    "plt.xlabel('Pixels', fontsize=14)\n",
    "plt.ylabel('Current[A]', fontsize=14)\n",
    "plt.xticks(fontsize=10)\n",
    "plt.yticks(fontsize=10)"
   ]
  },
  {
   "cell_type": "code",
   "execution_count": 19,
   "metadata": {},
   "outputs": [],
   "source": [
    "df.to_excel(\"pixels_current.xlsx\")"
   ]
  }
 ],
 "metadata": {
  "kernelspec": {
   "display_name": "Python 3",
   "language": "python",
   "name": "python3"
  },
  "language_info": {
   "codemirror_mode": {
    "name": "ipython",
    "version": 3
   },
   "file_extension": ".py",
   "mimetype": "text/x-python",
   "name": "python",
   "nbconvert_exporter": "python",
   "pygments_lexer": "ipython3",
   "version": "3.8.3"
  }
 },
 "nbformat": 4,
 "nbformat_minor": 4
}
