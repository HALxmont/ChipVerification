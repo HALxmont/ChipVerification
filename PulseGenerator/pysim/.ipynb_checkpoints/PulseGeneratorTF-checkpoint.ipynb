{
 "cells": [
  {
   "cell_type": "code",
   "execution_count": 11,
   "metadata": {},
   "outputs": [],
   "source": [
    "import control\n",
    "import numpy as np\n",
    "import control.matlab as cmat\n",
    "import matplotlib.pyplot as plt\n",
    "import pandas as pd"
   ]
  },
  {
   "cell_type": "code",
   "execution_count": 2,
   "metadata": {},
   "outputs": [],
   "source": [
    "#const\n",
    "r10 = 10**4\n",
    "rdac = 3.3 * 10**3\n",
    "rchip = 11\n",
    "\n",
    "ca = 0.1 * 10**-6\n",
    "cx = 100 * 10**-12\n",
    "cn = 50 * 10 **-12\n",
    "\n",
    "#c level_options = n\n",
    "n = 1\n",
    "s = control.tf('s')"
   ]
  },
  {
   "cell_type": "markdown",
   "metadata": {},
   "source": [
    "# Para una opcion de carga"
   ]
  },
  {
   "cell_type": "code",
   "execution_count": 609,
   "metadata": {},
   "outputs": [
    {
     "name": "stdout",
     "output_type": "stream",
     "text": [
      "\n",
      "             1.1e-16 s^2\n",
      "-------------------------------------\n",
      "1.21e-15 s^2 - 1.097e-06 s - 0.003333\n",
      "\n",
      "A = [[9.06969697e+08 2.75482094e+12]\n",
      "     [1.00000000e+00 0.00000000e+00]]\n",
      "\n",
      "B = [[1.]\n",
      "     [0.]]\n",
      "\n",
      "C = [[8.24517906e+07 2.50438267e+11]]\n",
      "\n",
      "D = [[0.09090909]]\n",
      "\n"
     ]
    }
   ],
   "source": [
    "num = cx*s\n",
    "den = ((1-1/(rchip*s*ca))*(cx*s+1/rdac+ca*s)-ca*s)*rchip\n",
    "hs = num/den\n",
    "print(hs)\n",
    "print(control.tf2ss(hs))"
   ]
  },
  {
   "cell_type": "code",
   "execution_count": 591,
   "metadata": {},
   "outputs": [
    {
     "data": {
      "text/plain": [
       "[<matplotlib.lines.Line2D at 0x7f75d1de6af0>]"
      ]
     },
     "execution_count": 591,
     "metadata": {},
     "output_type": "execute_result"
    },
    {
     "data": {
      "image/png": "[encoded data removed]",
      "text/plain": [
       "<Figure size 432x288 with 1 Axes>"
      ]
     },
     "metadata": {
      "needs_background": "light"
     },
     "output_type": "display_data"
    }
   ],
   "source": [
    "t, y = control.step_response(hs)\n",
    "plt.plot(y)"
   ]
  },
  {
   "cell_type": "markdown",
   "metadata": {},
   "source": [
    "#  N opciones de carga"
   ]
  },
  {
   "cell_type": "code",
   "execution_count": 629,
   "metadata": {},
   "outputs": [],
   "source": [
    "capacitors = [100*p, 70*p]\n",
    "#capacitors = []\n"
   ]
  },
  {
   "cell_type": "code",
   "execution_count": 630,
   "metadata": {},
   "outputs": [
    {
     "name": "stdout",
     "output_type": "stream",
     "text": [
      "===================== TF PARA CASO N CARGAS ===================== \n",
      "\n",
      "                8.47e-43 s^5 - 2.057e-36 s^4 + 1.21e-30 s^3\n",
      "---------------------------------------------------------------------------\n",
      "9.317e-42 s^5 - 8.491e-33 s^4 + 2.055e-26 s^3 - 1.203e-20 s^2 - 3.667e-17 s\n",
      "\n",
      "================================================================= \n",
      "\n",
      "===================== SS PARA CASO N CARGAS ===================== \n",
      "A = [[ 9.11398268e+08 -2.20556120e+15  1.29118851e+21  3.93545848e+24\n",
      "      -0.00000000e+00]\n",
      "     [ 1.00000000e+00  0.00000000e+00  0.00000000e+00  0.00000000e+00\n",
      "       0.00000000e+00]\n",
      "     [ 0.00000000e+00  1.00000000e+00  0.00000000e+00  0.00000000e+00\n",
      "       0.00000000e+00]\n",
      "     [ 0.00000000e+00  0.00000000e+00  1.00000000e+00  0.00000000e+00\n",
      "       0.00000000e+00]\n",
      "     [ 0.00000000e+00  0.00000000e+00  0.00000000e+00  1.00000000e+00\n",
      "       0.00000000e+00]]\n",
      "\n",
      "B = [[1.]\n",
      "     [0.]\n",
      "     [0.]\n",
      "     [0.]\n",
      "     [0.]]\n",
      "\n",
      "C = [[ 8.26336088e+07 -2.00375693e+14  1.17380773e+20  3.57768953e+23\n",
      "       0.00000000e+00]]\n",
      "\n",
      "D = [[0.09090909]]\n",
      "\n",
      "================================================================= \n"
     ]
    }
   ],
   "source": [
    "if len(capacitors) != 0 :\n",
    "    alpha = cx*s+1/rdac+ca*s\n",
    "    for i in capacitors:\n",
    "        alpha = alpha + i*s \n",
    "\n",
    "    omega = 0\n",
    "    for i in capacitors:\n",
    "        omega = ((i*s)**2)/(i*s-1/r10) + omega\n",
    "\n",
    "\n",
    "    beta = (1-1/(s*ca*rchip))*alpha-ca*s-(1-1/(s*ca*rchip))*omega\n",
    "\n",
    "    hs = (cx*s)/(rchip*beta)\n",
    "    print(\"===================== TF PARA CASO N CARGAS ===================== \")\n",
    "    print(hs)\n",
    "    print(\"================================================================= \")\n",
    "    print(\"\")\n",
    "    print(\"===================== SS PARA CASO N CARGAS ===================== \")\n",
    "    print(control.tf2ss(hs))\n",
    "    print(\"================================================================= \")\n",
    "    \n",
    "else:\n",
    "    alpha = cx*s+1/rdac+ca*s   \n",
    "    beta = (1-1/(s*ca*rchip))*alpha-ca*s\n",
    "    hs = (cx*s)/(rchip*beta)\n",
    "    print(\"===================== TF PARA CASO 1 CARGA ===================== \")\n",
    "    print(hs)\n",
    "    print(\"================================================================= \")\n",
    "    print(\"\")\n",
    "    print(\"===================== SS PARA CASO 1 CARGAS ===================== \")\n",
    "    print(control.tf2ss(hs))\n",
    "    print(\"================================================================= \")"
   ]
  },
  {
   "cell_type": "code",
   "execution_count": 611,
   "metadata": {},
   "outputs": [
    {
     "name": "stdout",
     "output_type": "stream",
     "text": [
      "\n",
      "             1.1e-16 s^2\n",
      "-------------------------------------\n",
      "1.21e-15 s^2 - 1.097e-06 s - 0.003333\n",
      "\n"
     ]
    }
   ],
   "source": [
    "alpha = cx*s+1/rdac+ca*s   \n",
    "beta = (1-1/(s*ca*rchip))*alpha-ca*s\n",
    "hs = (cx*s)/(rchip*beta)\n",
    "print(hs)"
   ]
  },
  {
   "cell_type": "markdown",
   "metadata": {},
   "source": [
    "# Caso 2: solo 2 opciones de carga"
   ]
  },
  {
   "cell_type": "code",
   "execution_count": 8,
   "metadata": {},
   "outputs": [],
   "source": [
    "req = 1/rdac + 1/(1/(ca*s)+rchip) + 1/(1/(cn*s)+r10)\n",
    "hs = 1/req - 1/(1/(cx*s)+rdac) - (rdac/(1/(cx*s)+rdac))/(1/(cn*s)+r10)"
   ]
  },
  {
   "cell_type": "code",
   "execution_count": 10,
   "metadata": {},
   "outputs": [
    {
     "data": {
      "text/latex": [
       "$$\\frac{2.995 \\times 10^{-32} s^5 + 3.285 \\times 10^{-25} s^4 + 1.395 \\times 10^{-18} s^3 + 2.845 \\times 10^{-12} s^2 + 2.76 \\times 10^{-6} s + 1}{2.735 \\times 10^{-33} s^5 + 2.752 \\times 10^{-26} s^4 + 1.024 \\times 10^{-19} s^3 + 1.67 \\times 10^{-13} s^2 + 1.009 \\times 10^{-7} s + 0.000303}$$"
      ],
      "text/plain": [
       "TransferFunction(array([2.99463979e-32, 3.28507797e-25, 1.39467497e-18, 2.84488992e-12,\n",
       "       2.75999997e-06, 1.00000000e+00]), array([2.73456975e-33, 2.75164120e-26, 1.02398378e-19, 1.66975091e-13,\n",
       "       1.00886364e-07, 3.03030303e-04]))"
      ]
     },
     "execution_count": 10,
     "metadata": {},
     "output_type": "execute_result"
    }
   ],
   "source": [
    "hs"
   ]
  },
  {
   "cell_type": "code",
   "execution_count": 9,
   "metadata": {},
   "outputs": [
    {
     "name": "stderr",
     "output_type": "stream",
     "text": [
      "/home/mxmont/anaconda3/lib/python3.8/site-packages/scipy/sparse/linalg/matfuncs.py:710: LinAlgWarning: Ill-conditioned matrix (rcond=4.07593e-40): result may not be accurate.\n",
      "  return solve(Q, P)\n"
     ]
    }
   ],
   "source": [
    "t,y = (control.step_response(hs))"
   ]
  },
  {
   "cell_type": "code",
   "execution_count": 11,
   "metadata": {},
   "outputs": [
    {
     "data": {
      "text/plain": [
       "[<matplotlib.lines.Line2D at 0x7f75db5c8ca0>]"
      ]
     },
     "execution_count": 11,
     "metadata": {},
     "output_type": "execute_result"
    },
    {
     "data": {
      "image/png": "[encoded data removed]",
      "text/plain": [
       "<Figure size 432x288 with 1 Axes>"
      ]
     },
     "metadata": {
      "needs_background": "light"
     },
     "output_type": "display_data"
    }
   ],
   "source": [
    "plt.plot(y)"
   ]
  },
  {
   "cell_type": "code",
   "execution_count": null,
   "metadata": {},
   "outputs": [],
   "source": [
    "#_________________"
   ]
  },
  {
   "cell_type": "code",
   "execution_count": 121,
   "metadata": {},
   "outputs": [
    {
     "data": {
      "image/png": "[encoded data removed]",
      "text/plain": [
       "<Figure size 432x288 with 2 Axes>"
      ]
     },
     "metadata": {
      "needs_background": "light"
     },
     "output_type": "display_data"
    }
   ],
   "source": [
    "c=10*10**-12\n",
    "s = control.tf('s')\n",
    "\n",
    "cs = [10,20,30,40,50,100,200,300]\n",
    "df = pd.DataFrame()\n",
    "for i in cs:\n",
    "    #filtro 1\n",
    "    r1=3.3*10**3\n",
    "    c1=i*10**-12\n",
    "    h1=s/(s+1/(r1*c1))\n",
    "\n",
    "    #filtro 2\n",
    "    r2=11\n",
    "    c2=10**-6\n",
    "    h2=s/(s+1/(r2*c2))\n",
    "\n",
    "\n",
    "    #total\n",
    "    hs = control.series(h1,h2)\n",
    "\n",
    "    t, y = control.step_response(hs)\n",
    "    plt.plot(y)\n",
    "    control.bode_plot(hs)  # = h1, h2\n",
    "    # Create the pandas DataFrame\n",
    "    #df[str(i)+\"pF\"] = y\n",
    "    dfx=pd.DataFrame(y, columns=[str(i)+\"pF\"])\n",
    "    #df.append(dfx,ignore_index = True)\n",
    "    #\n",
    "    #df.append(dfx,ignore_index = True)\n",
    "    dfx.to_excel('tesis_pulse_response' + str(i)+\"pF\"+'.xlsx')\n",
    "    "
   ]
  },
  {
   "cell_type": "code",
   "execution_count": 57,
   "metadata": {},
   "outputs": [
    {
     "data": {
      "text/plain": [
       "[<matplotlib.lines.Line2D at 0x7fdac43e9a60>]"
      ]
     },
     "execution_count": 57,
     "metadata": {},
     "output_type": "execute_result"
    },
    {
     "data": {
      "image/png": "[encoded data removed]",
      "text/plain": [
       "<Figure size 432x288 with 1 Axes>"
      ]
     },
     "metadata": {
      "needs_background": "light"
     },
     "output_type": "display_data"
    }
   ],
   "source": [
    "t, y = control.step_response(hs)\n",
    "plt.plot(y)"
   ]
  },
  {
   "cell_type": "code",
   "execution_count": 58,
   "metadata": {},
   "outputs": [
    {
     "data": {
      "text/latex": [
       "$$\\frac{s}{s + 3.03 \\times 10^{5}}$$"
      ],
      "text/plain": [
       "TransferFunction(array([1, 0]), array([1.00000000e+00, 3.03030303e+05]))"
      ]
     },
     "execution_count": 58,
     "metadata": {},
     "output_type": "execute_result"
    }
   ],
   "source": [
    "h1"
   ]
  },
  {
   "cell_type": "code",
   "execution_count": 59,
   "metadata": {},
   "outputs": [
    {
     "data": {
      "text/latex": [
       "$$\\frac{s}{s + 9.091 \\times 10^{4}}$$"
      ],
      "text/plain": [
       "TransferFunction(array([1, 0]), array([1.00000000e+00, 9.09090909e+04]))"
      ]
     },
     "execution_count": 59,
     "metadata": {},
     "output_type": "execute_result"
    }
   ],
   "source": [
    "h2"
   ]
  },
  {
   "cell_type": "code",
   "execution_count": 114,
   "metadata": {},
   "outputs": [
    {
     "data": {
      "text/latex": [
       "$$\\frac{s^2}{s^2 + 1.101 \\times 10^{6} s + 9.183 \\times 10^{10}}$$"
      ],
      "text/plain": [
       "TransferFunction(array([1., 0., 0.]), array([1.00000000e+00, 1.10101010e+06, 9.18273646e+10]))"
      ]
     },
     "execution_count": 114,
     "metadata": {},
     "output_type": "execute_result"
    }
   ],
   "source": [
    "control.series(h1,h2)"
   ]
  },
  {
   "cell_type": "code",
   "execution_count": 113,
   "metadata": {},
   "outputs": [
    {
     "data": {
      "text/latex": [
       "$$\\frac{s^2}{s^2 + 1.101 \\times 10^{6} s + 9.183 \\times 10^{10}}$$"
      ],
      "text/plain": [
       "TransferFunction(array([1., 0., 0.]), array([1.00000000e+00, 1.10101010e+06, 9.18273646e+10]))"
      ]
     },
     "execution_count": 113,
     "metadata": {},
     "output_type": "execute_result"
    }
   ],
   "source": [
    "h1*h2"
   ]
  },
  {
   "cell_type": "code",
   "execution_count": 103,
   "metadata": {},
   "outputs": [
    {
     "data": {
      "text/plain": [
       "(array([-1010101.01010101,   -90909.09090909]), array([0., 0.]))"
      ]
     },
     "execution_count": 103,
     "metadata": {},
     "output_type": "execute_result"
    },
    {
     "data": {
      "image/png": "[encoded data removed]",
      "text/plain": [
       "<Figure size 432x288 with 1 Axes>"
      ]
     },
     "metadata": {
      "needs_background": "light"
     },
     "output_type": "display_data"
    }
   ],
   "source": [
    "control.pzmap(hs)  # = h1, h2"
   ]
  },
  {
   "cell_type": "code",
   "execution_count": 127,
   "metadata": {},
   "outputs": [
    {
     "data": {
      "text/html": [
       "<div>\n",
       "<style scoped>\n",
       "    .dataframe tbody tr th:only-of-type {\n",
       "        vertical-align: middle;\n",
       "    }\n",
       "\n",
       "    .dataframe tbody tr th {\n",
       "        vertical-align: top;\n",
       "    }\n",
       "\n",
       "    .dataframe thead th {\n",
       "        text-align: right;\n",
       "    }\n",
       "</style>\n",
       "<table border=\"1\" class=\"dataframe\">\n",
       "  <thead>\n",
       "    <tr style=\"text-align: right;\">\n",
       "      <th></th>\n",
       "      <th>0</th>\n",
       "      <th>1</th>\n",
       "      <th>2</th>\n",
       "      <th>3</th>\n",
       "      <th>4</th>\n",
       "      <th>5</th>\n",
       "      <th>6</th>\n",
       "      <th>7</th>\n",
       "      <th>8</th>\n",
       "      <th>9</th>\n",
       "      <th>...</th>\n",
       "      <th>990</th>\n",
       "      <th>991</th>\n",
       "      <th>992</th>\n",
       "      <th>993</th>\n",
       "      <th>994</th>\n",
       "      <th>995</th>\n",
       "      <th>996</th>\n",
       "      <th>997</th>\n",
       "      <th>998</th>\n",
       "      <th>999</th>\n",
       "    </tr>\n",
       "  </thead>\n",
       "  <tbody>\n",
       "    <tr>\n",
       "      <th>0</th>\n",
       "      <td>0.000011</td>\n",
       "      <td>0.000011</td>\n",
       "      <td>0.000011</td>\n",
       "      <td>0.000012</td>\n",
       "      <td>0.000012</td>\n",
       "      <td>0.000012</td>\n",
       "      <td>0.000013</td>\n",
       "      <td>0.000013</td>\n",
       "      <td>0.000013</td>\n",
       "      <td>0.000013</td>\n",
       "      <td>...</td>\n",
       "      <td>9.999367e-01</td>\n",
       "      <td>9.999382e-01</td>\n",
       "      <td>9.999396e-01</td>\n",
       "      <td>9.999409e-01</td>\n",
       "      <td>9.999423e-01</td>\n",
       "      <td>9.999436e-01</td>\n",
       "      <td>9.999449e-01</td>\n",
       "      <td>9.999461e-01</td>\n",
       "      <td>9.999474e-01</td>\n",
       "      <td>9.999486e-01</td>\n",
       "    </tr>\n",
       "    <tr>\n",
       "      <th>1</th>\n",
       "      <td>-3.153582</td>\n",
       "      <td>-3.153721</td>\n",
       "      <td>-3.153862</td>\n",
       "      <td>-3.154004</td>\n",
       "      <td>-3.154148</td>\n",
       "      <td>-3.154293</td>\n",
       "      <td>-3.154441</td>\n",
       "      <td>-3.154589</td>\n",
       "      <td>-3.154740</td>\n",
       "      <td>-3.154892</td>\n",
       "      <td>...</td>\n",
       "      <td>-6.270972e+00</td>\n",
       "      <td>-6.271112e+00</td>\n",
       "      <td>-6.271251e+00</td>\n",
       "      <td>-6.271387e+00</td>\n",
       "      <td>-6.271523e+00</td>\n",
       "      <td>-6.271656e+00</td>\n",
       "      <td>-6.271788e+00</td>\n",
       "      <td>-6.271919e+00</td>\n",
       "      <td>-6.272048e+00</td>\n",
       "      <td>-6.272176e+00</td>\n",
       "    </tr>\n",
       "    <tr>\n",
       "      <th>2</th>\n",
       "      <td>1000.000000</td>\n",
       "      <td>1011.591112</td>\n",
       "      <td>1023.316578</td>\n",
       "      <td>1035.177956</td>\n",
       "      <td>1047.176819</td>\n",
       "      <td>1059.314764</td>\n",
       "      <td>1071.593400</td>\n",
       "      <td>1084.014359</td>\n",
       "      <td>1096.579291</td>\n",
       "      <td>1109.289865</td>\n",
       "      <td>...</td>\n",
       "      <td>9.014776e+07</td>\n",
       "      <td>9.119268e+07</td>\n",
       "      <td>9.224970e+07</td>\n",
       "      <td>9.331898e+07</td>\n",
       "      <td>9.440065e+07</td>\n",
       "      <td>9.549486e+07</td>\n",
       "      <td>9.660175e+07</td>\n",
       "      <td>9.772147e+07</td>\n",
       "      <td>9.885417e+07</td>\n",
       "      <td>1.000000e+08</td>\n",
       "    </tr>\n",
       "  </tbody>\n",
       "</table>\n",
       "<p>3 rows × 1000 columns</p>\n",
       "</div>"
      ],
      "text/plain": [
       "           0            1            2            3            4    \\\n",
       "0     0.000011     0.000011     0.000011     0.000012     0.000012   \n",
       "1    -3.153582    -3.153721    -3.153862    -3.154004    -3.154148   \n",
       "2  1000.000000  1011.591112  1023.316578  1035.177956  1047.176819   \n",
       "\n",
       "           5            6            7            8            9    ...  \\\n",
       "0     0.000012     0.000013     0.000013     0.000013     0.000013  ...   \n",
       "1    -3.154293    -3.154441    -3.154589    -3.154740    -3.154892  ...   \n",
       "2  1059.314764  1071.593400  1084.014359  1096.579291  1109.289865  ...   \n",
       "\n",
       "            990           991           992           993           994  \\\n",
       "0  9.999367e-01  9.999382e-01  9.999396e-01  9.999409e-01  9.999423e-01   \n",
       "1 -6.270972e+00 -6.271112e+00 -6.271251e+00 -6.271387e+00 -6.271523e+00   \n",
       "2  9.014776e+07  9.119268e+07  9.224970e+07  9.331898e+07  9.440065e+07   \n",
       "\n",
       "            995           996           997           998           999  \n",
       "0  9.999436e-01  9.999449e-01  9.999461e-01  9.999474e-01  9.999486e-01  \n",
       "1 -6.271656e+00 -6.271788e+00 -6.271919e+00 -6.272048e+00 -6.272176e+00  \n",
       "2  9.549486e+07  9.660175e+07  9.772147e+07  9.885417e+07  1.000000e+08  \n",
       "\n",
       "[3 rows x 1000 columns]"
      ]
     },
     "execution_count": 127,
     "metadata": {},
     "output_type": "execute_result"
    },
    {
     "data": {
      "image/png": "[encoded data removed]",
      "text/plain": [
       "<Figure size 432x288 with 2 Axes>"
      ]
     },
     "metadata": {
      "needs_background": "light"
     },
     "output_type": "display_data"
    }
   ],
   "source": [
    "pd.DataFrame(control.bode_plot(hs))  # = h1, h2"
   ]
  },
  {
   "cell_type": "code",
   "execution_count": 98,
   "metadata": {},
   "outputs": [
    {
     "ename": "AttributeError",
     "evalue": "'NoneType' object has no attribute 'shape'",
     "output_type": "error",
     "traceback": [
      "\u001b[0;31m---------------------------------------------------------------------------\u001b[0m",
      "\u001b[0;31mAttributeError\u001b[0m                            Traceback (most recent call last)",
      "\u001b[0;32m<ipython-input-98-d74f1bcdd37c>\u001b[0m in \u001b[0;36m<module>\u001b[0;34m\u001b[0m\n\u001b[0;32m----> 1\u001b[0;31m \u001b[0ma\u001b[0m\u001b[0;34m.\u001b[0m\u001b[0mshape\u001b[0m\u001b[0;34m\u001b[0m\u001b[0;34m\u001b[0m\u001b[0m\n\u001b[0m",
      "\u001b[0;31mAttributeError\u001b[0m: 'NoneType' object has no attribute 'shape'"
     ]
    }
   ],
   "source": []
  }
 ],
 "metadata": {
  "kernelspec": {
   "display_name": "Python 3",
   "language": "python",
   "name": "python3"
  },
  "language_info": {
   "codemirror_mode": {
    "name": "ipython",
    "version": 3
   },
   "file_extension": ".py",
   "mimetype": "text/x-python",
   "name": "python",
   "nbconvert_exporter": "python",
   "pygments_lexer": "ipython3",
   "version": "3.8.3"
  }
 },
 "nbformat": 4,
 "nbformat_minor": 4
}
