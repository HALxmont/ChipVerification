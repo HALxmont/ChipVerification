{
 "cells": [
  {
   "cell_type": "markdown",
   "metadata": {},
   "source": [
    "# Pulse - Equivalent charge"
   ]
  },
  {
   "cell_type": "markdown",
   "metadata": {},
   "source": [
    "### En base a la Tesis\n",
    ">  0.1 nS de duracion con amplitud de 4mA para un pixel\n",
    "\n",
    ">  Cada pixel aporta 4mA \n",
    "\n",
    ">  El chip se ha diseñado para leer en un rango de [1, 3000] pixeles\n",
    "\n",
    ">  **Se asume un pulso rectangular** de amplitud 4*N* de 0.1nS. N es el numero de pixeles activados en el rango de [1, 3000]"
   ]
  },
  {
   "cell_type": "code",
   "execution_count": 40,
   "metadata": {},
   "outputs": [],
   "source": [
    "import numpy as np\n",
    "import matplotlib.pyplot as plt\n",
    "import pandas as pd"
   ]
  },
  {
   "cell_type": "code",
   "execution_count": 50,
   "metadata": {},
   "outputs": [],
   "source": [
    "#RELACION AMPLITUD - CARGA para una duracion de 0.1nS\n",
    "\n",
    "amplitud = np.arange(4,3004,4)  #vector de valores para la amplitud\n",
    "cargas = []\n",
    "amplitudes = []\n",
    "t_pulse = 0.1*10**-9 #0.ns\n",
    "pixeles = []\n",
    "count = 1\n",
    "m = 10**-3 #mili\n",
    "for i in amplitud:\n",
    "    cargas.append(t_pulse*i)\n",
    "    amplitudes.append(i)\n",
    "    pixeles.append(count)\n",
    "    count+=1\n",
    " \n",
    "# Create the pandas DataFrame\n",
    "df = pd.DataFrame(list(zip(pixeles, cargas, amplitudes)),\n",
    "               columns =['PIXELES', 'CARGAS[q]', 'AMPLITUD[A]'])\n",
    "\n",
    "df.to_excel('tesis_base.xlsx')"
   ]
  },
  {
   "cell_type": "code",
   "execution_count": 49,
   "metadata": {},
   "outputs": [
    {
     "data": {
      "text/html": [
       "<div>\n",
       "<style scoped>\n",
       "    .dataframe tbody tr th:only-of-type {\n",
       "        vertical-align: middle;\n",
       "    }\n",
       "\n",
       "    .dataframe tbody tr th {\n",
       "        vertical-align: top;\n",
       "    }\n",
       "\n",
       "    .dataframe thead th {\n",
       "        text-align: right;\n",
       "    }\n",
       "</style>\n",
       "<table border=\"1\" class=\"dataframe\">\n",
       "  <thead>\n",
       "    <tr style=\"text-align: right;\">\n",
       "      <th></th>\n",
       "      <th>PIXELES</th>\n",
       "      <th>CARGAS[q]</th>\n",
       "      <th>AMPLITUD[A]</th>\n",
       "    </tr>\n",
       "  </thead>\n",
       "  <tbody>\n",
       "    <tr>\n",
       "      <th>0</th>\n",
       "      <td>1</td>\n",
       "      <td>4.000000e-10</td>\n",
       "      <td>4</td>\n",
       "    </tr>\n",
       "    <tr>\n",
       "      <th>1</th>\n",
       "      <td>2</td>\n",
       "      <td>8.000000e-10</td>\n",
       "      <td>8</td>\n",
       "    </tr>\n",
       "    <tr>\n",
       "      <th>2</th>\n",
       "      <td>3</td>\n",
       "      <td>1.200000e-09</td>\n",
       "      <td>12</td>\n",
       "    </tr>\n",
       "    <tr>\n",
       "      <th>3</th>\n",
       "      <td>4</td>\n",
       "      <td>1.600000e-09</td>\n",
       "      <td>16</td>\n",
       "    </tr>\n",
       "    <tr>\n",
       "      <th>4</th>\n",
       "      <td>5</td>\n",
       "      <td>2.000000e-09</td>\n",
       "      <td>20</td>\n",
       "    </tr>\n",
       "    <tr>\n",
       "      <th>...</th>\n",
       "      <td>...</td>\n",
       "      <td>...</td>\n",
       "      <td>...</td>\n",
       "    </tr>\n",
       "    <tr>\n",
       "      <th>745</th>\n",
       "      <td>746</td>\n",
       "      <td>2.984000e-07</td>\n",
       "      <td>2984</td>\n",
       "    </tr>\n",
       "    <tr>\n",
       "      <th>746</th>\n",
       "      <td>747</td>\n",
       "      <td>2.988000e-07</td>\n",
       "      <td>2988</td>\n",
       "    </tr>\n",
       "    <tr>\n",
       "      <th>747</th>\n",
       "      <td>748</td>\n",
       "      <td>2.992000e-07</td>\n",
       "      <td>2992</td>\n",
       "    </tr>\n",
       "    <tr>\n",
       "      <th>748</th>\n",
       "      <td>749</td>\n",
       "      <td>2.996000e-07</td>\n",
       "      <td>2996</td>\n",
       "    </tr>\n",
       "    <tr>\n",
       "      <th>749</th>\n",
       "      <td>750</td>\n",
       "      <td>3.000000e-07</td>\n",
       "      <td>3000</td>\n",
       "    </tr>\n",
       "  </tbody>\n",
       "</table>\n",
       "<p>750 rows × 3 columns</p>\n",
       "</div>"
      ],
      "text/plain": [
       "     PIXELES     CARGAS[q]  AMPLITUD[A]\n",
       "0          1  4.000000e-10            4\n",
       "1          2  8.000000e-10            8\n",
       "2          3  1.200000e-09           12\n",
       "3          4  1.600000e-09           16\n",
       "4          5  2.000000e-09           20\n",
       "..       ...           ...          ...\n",
       "745      746  2.984000e-07         2984\n",
       "746      747  2.988000e-07         2988\n",
       "747      748  2.992000e-07         2992\n",
       "748      749  2.996000e-07         2996\n",
       "749      750  3.000000e-07         3000\n",
       "\n",
       "[750 rows x 3 columns]"
      ]
     },
     "execution_count": 49,
     "metadata": {},
     "output_type": "execute_result"
    }
   ],
   "source": []
  },
  {
   "cell_type": "code",
   "execution_count": 35,
   "metadata": {},
   "outputs": [
    {
     "data": {
      "text/plain": [
       "750.0"
      ]
     },
     "execution_count": 35,
     "metadata": {},
     "output_type": "execute_result"
    }
   ],
   "source": [
    "3000/4"
   ]
  },
  {
   "cell_type": "code",
   "execution_count": 37,
   "metadata": {},
   "outputs": [
    {
     "data": {
      "text/plain": [
       "1404"
      ]
     },
     "execution_count": 37,
     "metadata": {},
     "output_type": "execute_result"
    }
   ],
   "source": [
    "amplitudes[]"
   ]
  }
 ],
 "metadata": {
  "kernelspec": {
   "display_name": "Python 3",
   "language": "python",
   "name": "python3"
  },
  "language_info": {
   "codemirror_mode": {
    "name": "ipython",
    "version": 3
   },
   "file_extension": ".py",
   "mimetype": "text/x-python",
   "name": "python",
   "nbconvert_exporter": "python",
   "pygments_lexer": "ipython3",
   "version": "3.8.3"
  }
 },
 "nbformat": 4,
 "nbformat_minor": 4
}
