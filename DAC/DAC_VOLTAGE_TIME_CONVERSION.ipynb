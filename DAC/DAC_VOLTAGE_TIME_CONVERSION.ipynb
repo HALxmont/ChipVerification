{
 "cells": [
  {
   "cell_type": "markdown",
   "metadata": {},
   "source": [
    "# We use a dual 12bit PWM DAC \n",
    ">  https://www.analog.com/media/en/technical-documentation/data-sheets/LTC2644.pdf"
   ]
  },
  {
   "cell_type": "code",
   "execution_count": 1,
   "metadata": {},
   "outputs": [],
   "source": [
    "import numpy as np\n",
    "import pandas as pd\n",
    "import matplotlib.pyplot as plt"
   ]
  },
  {
   "cell_type": "markdown",
   "metadata": {},
   "source": [
    "### From the datashet we extract the formula for Vout using the intenernal 2.5v reference\n",
    "\n",
    ">  The resolution of the DAC is Vref/(2^N - 1), where N is the number of DAC bits\n",
    "\n",
    "> DAC_VOUT = k/2^N * Vref, where k = 2^N * tp_h * t\n",
    "\n",
    "> tp_h is the time of t"
   ]
  },
  {
   "cell_type": "code",
   "execution_count": 2,
   "metadata": {},
   "outputs": [
    {
     "data": {
      "text/plain": [
       "0.0006105006105006105"
      ]
     },
     "execution_count": 2,
     "metadata": {},
     "output_type": "execute_result"
    }
   ],
   "source": [
    "N =12\n",
    "max_resolution = 2.5/(2**N-1)\n",
    "max_resolution"
   ]
  },
  {
   "cell_type": "code",
   "execution_count": 3,
   "metadata": {},
   "outputs": [],
   "source": [
    "def time_on_adc(f, v_out, vref): \n",
    "    period = 1/f\n",
    "    time_on = (v_out-period)/vref\n",
    "    return time_on * period"
   ]
  },
  {
   "cell_type": "code",
   "execution_count": 4,
   "metadata": {},
   "outputs": [
    {
     "data": {
      "text/plain": [
       "9.998400000000001e-05"
      ]
     },
     "execution_count": 4,
     "metadata": {},
     "output_type": "execute_result"
    }
   ],
   "source": [
    "time_on_adc(5*10**3, 1.25, 2.5)"
   ]
  },
  {
   "cell_type": "markdown",
   "metadata": {},
   "source": [
    "### Now we will generate a range() of voltage with a step = max_resolution \n",
    "### and we save the data in two columns: time_on | v_out "
   ]
  },
  {
   "cell_type": "code",
   "execution_count": 5,
   "metadata": {},
   "outputs": [],
   "source": [
    "voltage_to_test = np.arange(0,2.5,max_resolution)  #GENERATION OF THE STEP OF VOLTAGE"
   ]
  },
  {
   "cell_type": "code",
   "execution_count": 12,
   "metadata": {},
   "outputs": [],
   "source": [
    "#data generation\n",
    "data_v_out = []\n",
    "data_t_on = []\n",
    "ns_cycles = []\n",
    "\n",
    "\n",
    "#I use 5khz for Frecuency Inx inputs and 2.5V internal reference\n",
    "for i in voltage_to_test:\n",
    "    data_v_out.append(i)\n",
    "    data_t_on.append(time_on_adc(5*10**3, i, 2.5))  # fec INx, v_out, vref\n",
    "    ns_cycles.append( round(10**9 * time_on_adc(5*10**3, i, 2.5)))\n",
    "#generate the equivalent cylces in ns\n",
    "for i in voltage_to_test:\n",
    "    data_v_out.append(i)\n",
    "    data_t_on.append(time_on_adc(5*10**3, i, 2.5))  # fec INx, v_out, vref"
   ]
  },
  {
   "cell_type": "code",
   "execution_count": 7,
   "metadata": {},
   "outputs": [
    {
     "data": {
      "text/plain": [
       "[<matplotlib.lines.Line2D at 0x7f3926cd1160>]"
      ]
     },
     "execution_count": 7,
     "metadata": {},
     "output_type": "execute_result"
    },
    {
     "data": {
      "image/png": "[encoded data removed]",
      "text/plain": [
       "<Figure size 432x288 with 1 Axes>"
      ]
     },
     "metadata": {
      "needs_background": "light"
     },
     "output_type": "display_data"
    }
   ],
   "source": [
    "plt.plot(data_v_out)"
   ]
  },
  {
   "cell_type": "code",
   "execution_count": 8,
   "metadata": {},
   "outputs": [
    {
     "data": {
      "text/plain": [
       "[<matplotlib.lines.Line2D at 0x7f3926c47d00>]"
      ]
     },
     "execution_count": 8,
     "metadata": {},
     "output_type": "execute_result"
    },
    {
     "data": {
      "image/png": "[encoded data removed]",
      "text/plain": [
       "<Figure size 432x288 with 1 Axes>"
      ]
     },
     "metadata": {
      "needs_background": "light"
     },
     "output_type": "display_data"
    }
   ],
   "source": [
    "plt.plot(data_t_on)"
   ]
  },
  {
   "cell_type": "code",
   "execution_count": 13,
   "metadata": {},
   "outputs": [
    {
     "data": {
      "text/html": [
       "<div>\n",
       "<style scoped>\n",
       "    .dataframe tbody tr th:only-of-type {\n",
       "        vertical-align: middle;\n",
       "    }\n",
       "\n",
       "    .dataframe tbody tr th {\n",
       "        vertical-align: top;\n",
       "    }\n",
       "\n",
       "    .dataframe thead th {\n",
       "        text-align: right;\n",
       "    }\n",
       "</style>\n",
       "<table border=\"1\" class=\"dataframe\">\n",
       "  <thead>\n",
       "    <tr style=\"text-align: right;\">\n",
       "      <th></th>\n",
       "      <th>ADC_Vout</th>\n",
       "      <th>Time_On</th>\n",
       "      <th>Ns_cycles</th>\n",
       "    </tr>\n",
       "  </thead>\n",
       "  <tbody>\n",
       "    <tr>\n",
       "      <th>0</th>\n",
       "      <td>0.000000</td>\n",
       "      <td>-1.600000e-08</td>\n",
       "      <td>-16</td>\n",
       "    </tr>\n",
       "    <tr>\n",
       "      <th>1</th>\n",
       "      <td>0.000611</td>\n",
       "      <td>3.284005e-08</td>\n",
       "      <td>33</td>\n",
       "    </tr>\n",
       "    <tr>\n",
       "      <th>2</th>\n",
       "      <td>0.001221</td>\n",
       "      <td>8.168010e-08</td>\n",
       "      <td>82</td>\n",
       "    </tr>\n",
       "    <tr>\n",
       "      <th>3</th>\n",
       "      <td>0.001832</td>\n",
       "      <td>1.305201e-07</td>\n",
       "      <td>131</td>\n",
       "    </tr>\n",
       "    <tr>\n",
       "      <th>4</th>\n",
       "      <td>0.002442</td>\n",
       "      <td>1.793602e-07</td>\n",
       "      <td>179</td>\n",
       "    </tr>\n",
       "    <tr>\n",
       "      <th>...</th>\n",
       "      <td>...</td>\n",
       "      <td>...</td>\n",
       "      <td>...</td>\n",
       "    </tr>\n",
       "    <tr>\n",
       "      <th>4090</th>\n",
       "      <td>2.496947</td>\n",
       "      <td>1.997398e-04</td>\n",
       "      <td>199740</td>\n",
       "    </tr>\n",
       "    <tr>\n",
       "      <th>4091</th>\n",
       "      <td>2.497558</td>\n",
       "      <td>1.997886e-04</td>\n",
       "      <td>199789</td>\n",
       "    </tr>\n",
       "    <tr>\n",
       "      <th>4092</th>\n",
       "      <td>2.498168</td>\n",
       "      <td>1.998375e-04</td>\n",
       "      <td>199837</td>\n",
       "    </tr>\n",
       "    <tr>\n",
       "      <th>4093</th>\n",
       "      <td>2.498779</td>\n",
       "      <td>1.998863e-04</td>\n",
       "      <td>199886</td>\n",
       "    </tr>\n",
       "    <tr>\n",
       "      <th>4094</th>\n",
       "      <td>2.499389</td>\n",
       "      <td>1.999352e-04</td>\n",
       "      <td>199935</td>\n",
       "    </tr>\n",
       "  </tbody>\n",
       "</table>\n",
       "<p>4095 rows × 3 columns</p>\n",
       "</div>"
      ],
      "text/plain": [
       "      ADC_Vout       Time_On  Ns_cycles\n",
       "0     0.000000 -1.600000e-08        -16\n",
       "1     0.000611  3.284005e-08         33\n",
       "2     0.001221  8.168010e-08         82\n",
       "3     0.001832  1.305201e-07        131\n",
       "4     0.002442  1.793602e-07        179\n",
       "...        ...           ...        ...\n",
       "4090  2.496947  1.997398e-04     199740\n",
       "4091  2.497558  1.997886e-04     199789\n",
       "4092  2.498168  1.998375e-04     199837\n",
       "4093  2.498779  1.998863e-04     199886\n",
       "4094  2.499389  1.999352e-04     199935\n",
       "\n",
       "[4095 rows x 3 columns]"
      ]
     },
     "execution_count": 13,
     "metadata": {},
     "output_type": "execute_result"
    }
   ],
   "source": [
    "\n",
    "data = [data_v_out, data_t_on]  \n",
    "# Create the pandas DataFrame\n",
    "df = pd.DataFrame(list(zip(data_v_out, data_t_on, ns_cycles)),\n",
    "               columns =['ADC_Vout', 'Time_On', 'Ns_cycles'])\n",
    "  \n",
    "# print dataframe.\n",
    "df"
   ]
  },
  {
   "cell_type": "code",
   "execution_count": 15,
   "metadata": {},
   "outputs": [
    {
     "data": {
      "text/plain": [
       "4096"
      ]
     },
     "execution_count": 15,
     "metadata": {},
     "output_type": "execute_result"
    }
   ],
   "source": []
  },
  {
   "cell_type": "code",
   "execution_count": 11,
   "metadata": {},
   "outputs": [
    {
     "data": {
      "text/plain": [
       "33"
      ]
     },
     "execution_count": 11,
     "metadata": {},
     "output_type": "execute_result"
    }
   ],
   "source": []
  }
 ],
 "metadata": {
  "kernelspec": {
   "display_name": "Python 3",
   "language": "python",
   "name": "python3"
  },
  "language_info": {
   "codemirror_mode": {
    "name": "ipython",
    "version": 3
   },
   "file_extension": ".py",
   "mimetype": "text/x-python",
   "name": "python",
   "nbconvert_exporter": "python",
   "pygments_lexer": "ipython3",
   "version": "3.8.3"
  }
 },
 "nbformat": 4,
 "nbformat_minor": 4
}
